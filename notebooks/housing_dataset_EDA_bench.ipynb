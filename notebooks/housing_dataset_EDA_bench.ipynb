{
 "cells": [
  {
   "cell_type": "code",
   "execution_count": 1,
   "id": "831b3e2d",
   "metadata": {},
   "outputs": [],
   "source": [
    "%load_ext autoreload\n",
    "\n",
    "%autoreload 2"
   ]
  },
  {
   "cell_type": "code",
   "execution_count": 2,
   "id": "a6596bc3",
   "metadata": {},
   "outputs": [],
   "source": [
    "import numpy as np\n",
    "import pandas as pd\n",
    "\n",
    "from sklearn.model_selection import train_test_split\n",
    "from sklearn.metrics import mean_absolute_error\n",
    "from sklearn.preprocessing import StandardScaler\n",
    "from sklearn.linear_model import LinearRegression\n",
    "from sklearn.linear_model import LogisticRegression\n",
    "from sklearn.dummy import DummyRegressor\n",
    "from sklearn.ensemble import RandomForestRegressor\n",
    "\n",
    "from lightgbm import LGBMRegressor\n",
    "\n",
    "import warnings\n",
    "warnings.filterwarnings(\"ignore\")"
   ]
  },
  {
   "cell_type": "code",
   "execution_count": 3,
   "id": "d3fb6cfb",
   "metadata": {},
   "outputs": [],
   "source": [
    "from regression_classifier import *"
   ]
  },
  {
   "cell_type": "markdown",
   "id": "df56975b",
   "metadata": {},
   "source": [
    "### Dataset link:\n",
    "https://www.kaggle.com/camnugent/california-housing-prices?select=housing.csv"
   ]
  },
  {
   "cell_type": "code",
   "execution_count": 4,
   "id": "71cdd6ed",
   "metadata": {},
   "outputs": [],
   "source": [
    "df = pd.read_csv('./data/housing.csv')\n",
    "\n",
    "df = df.dropna()\n",
    "df = pd.get_dummies(df, columns=['ocean_proximity'], prefix='ocean', drop_first=True)\n",
    "\n",
    "target_name = 'median_house_value'"
   ]
  },
  {
   "cell_type": "code",
   "execution_count": 5,
   "id": "25343ae5",
   "metadata": {},
   "outputs": [],
   "source": [
    "X, y = df.drop(columns=[target_name]), df[target_name]\n",
    "\n",
    "X_train, X_test, y_train, y_test = train_test_split(X, y, test_size=0.3, random_state=42)\n",
    "\n",
    "scaler = StandardScaler()\n",
    "X_train_scaled = pd.DataFrame(scaler.fit_transform(X_train), columns=X_train.columns)\n",
    "X_test_scaled = pd.DataFrame(scaler.transform(X_test), columns=X_test.columns)"
   ]
  },
  {
   "cell_type": "markdown",
   "id": "5da4a79e",
   "metadata": {},
   "source": [
    "## Сравнение двух вариаций алгоритмов (с оптимальными настройками) и бейзлайнов"
   ]
  },
  {
   "cell_type": "code",
   "execution_count": 11,
   "id": "1ac460e8",
   "metadata": {},
   "outputs": [
    {
     "name": "stdout",
     "output_type": "stream",
     "text": [
      "Wall time: 3.32 s\n"
     ]
    },
    {
     "data": {
      "text/html": [
       "<div>\n",
       "<style scoped>\n",
       "    .dataframe tbody tr th:only-of-type {\n",
       "        vertical-align: middle;\n",
       "    }\n",
       "\n",
       "    .dataframe tbody tr th {\n",
       "        vertical-align: top;\n",
       "    }\n",
       "\n",
       "    .dataframe thead th {\n",
       "        text-align: right;\n",
       "    }\n",
       "</style>\n",
       "<table border=\"1\" class=\"dataframe\">\n",
       "  <thead>\n",
       "    <tr style=\"text-align: right;\">\n",
       "      <th></th>\n",
       "      <th>error_type</th>\n",
       "      <th>class_reg</th>\n",
       "    </tr>\n",
       "  </thead>\n",
       "  <tbody>\n",
       "    <tr>\n",
       "      <th>0</th>\n",
       "      <td>MAE</td>\n",
       "      <td>45727.144470</td>\n",
       "    </tr>\n",
       "    <tr>\n",
       "      <th>1</th>\n",
       "      <td>RMSE</td>\n",
       "      <td>68615.483049</td>\n",
       "    </tr>\n",
       "    <tr>\n",
       "      <th>2</th>\n",
       "      <td>R2</td>\n",
       "      <td>0.646830</td>\n",
       "    </tr>\n",
       "    <tr>\n",
       "      <th>3</th>\n",
       "      <td>MAPE</td>\n",
       "      <td>23.754482</td>\n",
       "    </tr>\n",
       "  </tbody>\n",
       "</table>\n",
       "</div>"
      ],
      "text/plain": [
       "  error_type     class_reg\n",
       "0        MAE  45727.144470\n",
       "1       RMSE  68615.483049\n",
       "2         R2      0.646830\n",
       "3       MAPE     23.754482"
      ]
     },
     "execution_count": 11,
     "metadata": {},
     "output_type": "execute_result"
    }
   ],
   "source": [
    "%%time\n",
    "class_reg = ClassRegressorEnsemble(n_bins=2, n_levels=5, bins_calc_method='equal', leaf_size=5000, leaf_model=LinearRegression)\n",
    "class_reg.fit(X_train_scaled, y_train)\n",
    "pred_test = class_reg.predict(X_test_scaled)\n",
    "\n",
    "measured_metrics = pd.DataFrame({\"error_type\":[\"MAE\", \"RMSE\", \"R2\", \"MAPE\"]})\n",
    "measured_metrics.set_index(\"error_type\")\n",
    "\n",
    "measured_metrics[\"class_reg\"] = dataframe_metrics(y_test, pred_test)\n",
    "measured_metrics"
   ]
  },
  {
   "cell_type": "code",
   "execution_count": 7,
   "id": "b19b05fb",
   "metadata": {},
   "outputs": [
    {
     "name": "stdout",
     "output_type": "stream",
     "text": [
      "Wall time: 16.1 s\n"
     ]
    },
    {
     "data": {
      "text/html": [
       "<div>\n",
       "<style scoped>\n",
       "    .dataframe tbody tr th:only-of-type {\n",
       "        vertical-align: middle;\n",
       "    }\n",
       "\n",
       "    .dataframe tbody tr th {\n",
       "        vertical-align: top;\n",
       "    }\n",
       "\n",
       "    .dataframe thead th {\n",
       "        text-align: right;\n",
       "    }\n",
       "</style>\n",
       "<table border=\"1\" class=\"dataframe\">\n",
       "  <thead>\n",
       "    <tr style=\"text-align: right;\">\n",
       "      <th></th>\n",
       "      <th>error_type</th>\n",
       "      <th>class_reg</th>\n",
       "      <th>class_reg_onelevel</th>\n",
       "    </tr>\n",
       "  </thead>\n",
       "  <tbody>\n",
       "    <tr>\n",
       "      <th>0</th>\n",
       "      <td>MAE</td>\n",
       "      <td>45727.144470</td>\n",
       "      <td>43104.982936</td>\n",
       "    </tr>\n",
       "    <tr>\n",
       "      <th>1</th>\n",
       "      <td>RMSE</td>\n",
       "      <td>68615.483049</td>\n",
       "      <td>63118.988542</td>\n",
       "    </tr>\n",
       "    <tr>\n",
       "      <th>2</th>\n",
       "      <td>R2</td>\n",
       "      <td>0.646830</td>\n",
       "      <td>0.701146</td>\n",
       "    </tr>\n",
       "    <tr>\n",
       "      <th>3</th>\n",
       "      <td>MAPE</td>\n",
       "      <td>23.754482</td>\n",
       "      <td>23.423199</td>\n",
       "    </tr>\n",
       "  </tbody>\n",
       "</table>\n",
       "</div>"
      ],
      "text/plain": [
       "  error_type     class_reg  class_reg_onelevel\n",
       "0        MAE  45727.144470        43104.982936\n",
       "1       RMSE  68615.483049        63118.988542\n",
       "2         R2      0.646830            0.701146\n",
       "3       MAPE     23.754482           23.423199"
      ]
     },
     "execution_count": 7,
     "metadata": {},
     "output_type": "execute_result"
    }
   ],
   "source": [
    "%%time\n",
    "class_reg_onelevel = ClassRegressorOnelevelEnsemble(n_bins=20, bins_calc_method='equal')\n",
    "class_reg_onelevel.fit(X_train_scaled, y_train)\n",
    "\n",
    "pred_train = class_reg_onelevel.predict(X_train_scaled)\n",
    "pred_test = class_reg_onelevel.predict(X_test_scaled)\n",
    "\n",
    "measured_metrics[\"class_reg_onelevel\"] = dataframe_metrics(y_test, pred_test)\n",
    "measured_metrics"
   ]
  },
  {
   "cell_type": "code",
   "execution_count": 8,
   "id": "27276e12",
   "metadata": {},
   "outputs": [
    {
     "name": "stdout",
     "output_type": "stream",
     "text": [
      "Wall time: 10 ms\n"
     ]
    },
    {
     "data": {
      "text/html": [
       "<div>\n",
       "<style scoped>\n",
       "    .dataframe tbody tr th:only-of-type {\n",
       "        vertical-align: middle;\n",
       "    }\n",
       "\n",
       "    .dataframe tbody tr th {\n",
       "        vertical-align: top;\n",
       "    }\n",
       "\n",
       "    .dataframe thead th {\n",
       "        text-align: right;\n",
       "    }\n",
       "</style>\n",
       "<table border=\"1\" class=\"dataframe\">\n",
       "  <thead>\n",
       "    <tr style=\"text-align: right;\">\n",
       "      <th></th>\n",
       "      <th>error_type</th>\n",
       "      <th>class_reg</th>\n",
       "      <th>class_reg_onelevel</th>\n",
       "      <th>lin_reg</th>\n",
       "    </tr>\n",
       "  </thead>\n",
       "  <tbody>\n",
       "    <tr>\n",
       "      <th>0</th>\n",
       "      <td>MAE</td>\n",
       "      <td>45727.144470</td>\n",
       "      <td>43104.982936</td>\n",
       "      <td>49642.998352</td>\n",
       "    </tr>\n",
       "    <tr>\n",
       "      <th>1</th>\n",
       "      <td>RMSE</td>\n",
       "      <td>68615.483049</td>\n",
       "      <td>63118.988542</td>\n",
       "      <td>67927.638042</td>\n",
       "    </tr>\n",
       "    <tr>\n",
       "      <th>2</th>\n",
       "      <td>R2</td>\n",
       "      <td>0.646830</td>\n",
       "      <td>0.701146</td>\n",
       "      <td>0.653875</td>\n",
       "    </tr>\n",
       "    <tr>\n",
       "      <th>3</th>\n",
       "      <td>MAPE</td>\n",
       "      <td>23.754482</td>\n",
       "      <td>23.423199</td>\n",
       "      <td>28.734869</td>\n",
       "    </tr>\n",
       "  </tbody>\n",
       "</table>\n",
       "</div>"
      ],
      "text/plain": [
       "  error_type     class_reg  class_reg_onelevel       lin_reg\n",
       "0        MAE  45727.144470        43104.982936  49642.998352\n",
       "1       RMSE  68615.483049        63118.988542  67927.638042\n",
       "2         R2      0.646830            0.701146      0.653875\n",
       "3       MAPE     23.754482           23.423199     28.734869"
      ]
     },
     "execution_count": 8,
     "metadata": {},
     "output_type": "execute_result"
    }
   ],
   "source": [
    "%%time\n",
    "lin_reg = LinearRegression()\n",
    "lin_reg.fit(X_train_scaled, y_train)\n",
    "\n",
    "pred_test_lin = lin_reg.predict(X_test_scaled)\n",
    "\n",
    "measured_metrics[\"lin_reg\"] = dataframe_metrics(y_test, pred_test_lin)\n",
    "measured_metrics"
   ]
  },
  {
   "cell_type": "code",
   "execution_count": 9,
   "id": "c61fdb9f",
   "metadata": {},
   "outputs": [
    {
     "name": "stdout",
     "output_type": "stream",
     "text": [
      "Wall time: 233 ms\n"
     ]
    },
    {
     "data": {
      "text/html": [
       "<div>\n",
       "<style scoped>\n",
       "    .dataframe tbody tr th:only-of-type {\n",
       "        vertical-align: middle;\n",
       "    }\n",
       "\n",
       "    .dataframe tbody tr th {\n",
       "        vertical-align: top;\n",
       "    }\n",
       "\n",
       "    .dataframe thead th {\n",
       "        text-align: right;\n",
       "    }\n",
       "</style>\n",
       "<table border=\"1\" class=\"dataframe\">\n",
       "  <thead>\n",
       "    <tr style=\"text-align: right;\">\n",
       "      <th></th>\n",
       "      <th>error_type</th>\n",
       "      <th>class_reg</th>\n",
       "      <th>class_reg_onelevel</th>\n",
       "      <th>lin_reg</th>\n",
       "      <th>lgbm_reg</th>\n",
       "    </tr>\n",
       "  </thead>\n",
       "  <tbody>\n",
       "    <tr>\n",
       "      <th>0</th>\n",
       "      <td>MAE</td>\n",
       "      <td>45727.144470</td>\n",
       "      <td>43104.982936</td>\n",
       "      <td>49642.998352</td>\n",
       "      <td>31981.573729</td>\n",
       "    </tr>\n",
       "    <tr>\n",
       "      <th>1</th>\n",
       "      <td>RMSE</td>\n",
       "      <td>68615.483049</td>\n",
       "      <td>63118.988542</td>\n",
       "      <td>67927.638042</td>\n",
       "      <td>47538.012867</td>\n",
       "    </tr>\n",
       "    <tr>\n",
       "      <th>2</th>\n",
       "      <td>R2</td>\n",
       "      <td>0.646830</td>\n",
       "      <td>0.701146</td>\n",
       "      <td>0.653875</td>\n",
       "      <td>0.830480</td>\n",
       "    </tr>\n",
       "    <tr>\n",
       "      <th>3</th>\n",
       "      <td>MAPE</td>\n",
       "      <td>23.754482</td>\n",
       "      <td>23.423199</td>\n",
       "      <td>28.734869</td>\n",
       "      <td>18.058717</td>\n",
       "    </tr>\n",
       "  </tbody>\n",
       "</table>\n",
       "</div>"
      ],
      "text/plain": [
       "  error_type     class_reg  class_reg_onelevel       lin_reg      lgbm_reg\n",
       "0        MAE  45727.144470        43104.982936  49642.998352  31981.573729\n",
       "1       RMSE  68615.483049        63118.988542  67927.638042  47538.012867\n",
       "2         R2      0.646830            0.701146      0.653875      0.830480\n",
       "3       MAPE     23.754482           23.423199     28.734869     18.058717"
      ]
     },
     "execution_count": 9,
     "metadata": {},
     "output_type": "execute_result"
    }
   ],
   "source": [
    "%%time\n",
    "lgbm_reg = LGBMRegressor()\n",
    "\n",
    "lgbm_reg.fit(X_train_scaled, y_train)\n",
    "\n",
    "measured_metrics[\"lgbm_reg\"] = dataframe_metrics(y_test, lgbm_reg.predict(X_test_scaled))\n",
    "measured_metrics"
   ]
  },
  {
   "cell_type": "code",
   "execution_count": null,
   "id": "80d5c159",
   "metadata": {},
   "outputs": [],
   "source": []
  }
 ],
 "metadata": {
  "kernelspec": {
   "display_name": "Python 3 (ipykernel)",
   "language": "python",
   "name": "python3"
  },
  "language_info": {
   "codemirror_mode": {
    "name": "ipython",
    "version": 3
   },
   "file_extension": ".py",
   "mimetype": "text/x-python",
   "name": "python",
   "nbconvert_exporter": "python",
   "pygments_lexer": "ipython3",
   "version": "3.8.12"
  }
 },
 "nbformat": 4,
 "nbformat_minor": 5
}