{
 "cells": [
  {
   "cell_type": "code",
   "execution_count": 1,
   "id": "c71407db",
   "metadata": {},
   "outputs": [],
   "source": [
    "%load_ext autoreload\n",
    "\n",
    "%autoreload 2"
   ]
  },
  {
   "cell_type": "code",
   "execution_count": 23,
   "id": "6418ab7d",
   "metadata": {},
   "outputs": [],
   "source": [
    "import numpy as np\n",
    "import pandas as pd\n",
    "\n",
    "from sklearn.model_selection import train_test_split\n",
    "from sklearn.metrics import mean_absolute_error\n",
    "from sklearn.preprocessing import StandardScaler\n",
    "from sklearn.dummy import DummyRegressor\n",
    "from sklearn.linear_model import LinearRegression\n",
    "\n",
    "from lightgbm import LGBMRegressor\n",
    "\n",
    "import warnings\n",
    "warnings.filterwarnings(\"ignore\")"
   ]
  },
  {
   "cell_type": "code",
   "execution_count": 3,
   "id": "be70fe3e",
   "metadata": {},
   "outputs": [],
   "source": [
    "from regression_classifier import *"
   ]
  },
  {
   "cell_type": "code",
   "execution_count": 4,
   "id": "cfbd76df",
   "metadata": {},
   "outputs": [],
   "source": [
    "df = pd.read_csv('./data/AB_NYC_2019_EDA.csv').drop(['Unnamed: 0'], axis=1)\n",
    "\n",
    "target_name = 'price'"
   ]
  },
  {
   "cell_type": "code",
   "execution_count": 5,
   "id": "47739d9b",
   "metadata": {},
   "outputs": [],
   "source": [
    "X, y = df.drop(columns=[target_name]), df[target_name]\n",
    "X_train, X_test, y_train, y_test = train_test_split(X, y, test_size=0.3, random_state=42)\n",
    "\n",
    "scaler = StandardScaler()\n",
    "X_train_scaled = pd.DataFrame(scaler.fit_transform(X_train), columns=X_train.columns)\n",
    "X_test_scaled = pd.DataFrame(scaler.transform(X_test), columns=X_test.columns)"
   ]
  },
  {
   "cell_type": "markdown",
   "id": "6a603cc8",
   "metadata": {},
   "source": [
    "# Test ClassRegressor"
   ]
  },
  {
   "cell_type": "code",
   "execution_count": 14,
   "id": "7abd719f",
   "metadata": {},
   "outputs": [
    {
     "data": {
      "text/html": [
       "<div>\n",
       "<style scoped>\n",
       "    .dataframe tbody tr th:only-of-type {\n",
       "        vertical-align: middle;\n",
       "    }\n",
       "\n",
       "    .dataframe tbody tr th {\n",
       "        vertical-align: top;\n",
       "    }\n",
       "\n",
       "    .dataframe thead th {\n",
       "        text-align: right;\n",
       "    }\n",
       "</style>\n",
       "<table border=\"1\" class=\"dataframe\">\n",
       "  <thead>\n",
       "    <tr style=\"text-align: right;\">\n",
       "      <th></th>\n",
       "      <th>neighbourhood</th>\n",
       "      <th>price</th>\n",
       "      <th>availability_365</th>\n",
       "      <th>n-hood_group_Brooklyn</th>\n",
       "      <th>n-hood_group_Manhattan</th>\n",
       "      <th>n-hood_group_Queens</th>\n",
       "      <th>n-hood_group_Staten Island</th>\n",
       "      <th>room_type_Private room</th>\n",
       "      <th>room_type_Shared room</th>\n",
       "      <th>Manh_dist</th>\n",
       "      <th>Broo_dist</th>\n",
       "      <th>log_minimum_nights</th>\n",
       "      <th>log_number_of_reviews</th>\n",
       "      <th>log_reviews_per_month</th>\n",
       "      <th>log_calculated_host_listings_count</th>\n",
       "    </tr>\n",
       "  </thead>\n",
       "  <tbody>\n",
       "    <tr>\n",
       "      <th>0</th>\n",
       "      <td>92.669640</td>\n",
       "      <td>149</td>\n",
       "      <td>365</td>\n",
       "      <td>1</td>\n",
       "      <td>0</td>\n",
       "      <td>0</td>\n",
       "      <td>0</td>\n",
       "      <td>1</td>\n",
       "      <td>0</td>\n",
       "      <td>0.133675</td>\n",
       "      <td>0.025206</td>\n",
       "      <td>0.693147</td>\n",
       "      <td>2.302585</td>\n",
       "      <td>-1.560648</td>\n",
       "      <td>1.791759</td>\n",
       "    </tr>\n",
       "    <tr>\n",
       "      <th>1</th>\n",
       "      <td>252.614598</td>\n",
       "      <td>225</td>\n",
       "      <td>355</td>\n",
       "      <td>0</td>\n",
       "      <td>1</td>\n",
       "      <td>0</td>\n",
       "      <td>0</td>\n",
       "      <td>0</td>\n",
       "      <td>0</td>\n",
       "      <td>0.032827</td>\n",
       "      <td>0.108917</td>\n",
       "      <td>0.693147</td>\n",
       "      <td>3.828641</td>\n",
       "      <td>-0.967584</td>\n",
       "      <td>0.693147</td>\n",
       "    </tr>\n",
       "    <tr>\n",
       "      <th>2</th>\n",
       "      <td>109.915169</td>\n",
       "      <td>150</td>\n",
       "      <td>365</td>\n",
       "      <td>0</td>\n",
       "      <td>1</td>\n",
       "      <td>0</td>\n",
       "      <td>0</td>\n",
       "      <td>1</td>\n",
       "      <td>0</td>\n",
       "      <td>0.036737</td>\n",
       "      <td>0.158162</td>\n",
       "      <td>1.386294</td>\n",
       "      <td>0.000000</td>\n",
       "      <td>-0.328504</td>\n",
       "      <td>0.000000</td>\n",
       "    </tr>\n",
       "    <tr>\n",
       "      <th>3</th>\n",
       "      <td>140.791735</td>\n",
       "      <td>89</td>\n",
       "      <td>194</td>\n",
       "      <td>1</td>\n",
       "      <td>0</td>\n",
       "      <td>0</td>\n",
       "      <td>0</td>\n",
       "      <td>0</td>\n",
       "      <td>0</td>\n",
       "      <td>0.096037</td>\n",
       "      <td>0.036351</td>\n",
       "      <td>0.693147</td>\n",
       "      <td>5.602119</td>\n",
       "      <td>1.534714</td>\n",
       "      <td>0.000000</td>\n",
       "    </tr>\n",
       "    <tr>\n",
       "      <th>4</th>\n",
       "      <td>121.010757</td>\n",
       "      <td>80</td>\n",
       "      <td>0</td>\n",
       "      <td>0</td>\n",
       "      <td>1</td>\n",
       "      <td>0</td>\n",
       "      <td>0</td>\n",
       "      <td>0</td>\n",
       "      <td>0</td>\n",
       "      <td>0.027858</td>\n",
       "      <td>0.147596</td>\n",
       "      <td>2.397895</td>\n",
       "      <td>2.302585</td>\n",
       "      <td>-2.302585</td>\n",
       "      <td>0.000000</td>\n",
       "    </tr>\n",
       "  </tbody>\n",
       "</table>\n",
       "</div>"
      ],
      "text/plain": [
       "   neighbourhood  price  availability_365  n-hood_group_Brooklyn  \\\n",
       "0      92.669640    149               365                      1   \n",
       "1     252.614598    225               355                      0   \n",
       "2     109.915169    150               365                      0   \n",
       "3     140.791735     89               194                      1   \n",
       "4     121.010757     80                 0                      0   \n",
       "\n",
       "   n-hood_group_Manhattan  n-hood_group_Queens  n-hood_group_Staten Island  \\\n",
       "0                       0                    0                           0   \n",
       "1                       1                    0                           0   \n",
       "2                       1                    0                           0   \n",
       "3                       0                    0                           0   \n",
       "4                       1                    0                           0   \n",
       "\n",
       "   room_type_Private room  room_type_Shared room  Manh_dist  Broo_dist  \\\n",
       "0                       1                      0   0.133675   0.025206   \n",
       "1                       0                      0   0.032827   0.108917   \n",
       "2                       1                      0   0.036737   0.158162   \n",
       "3                       0                      0   0.096037   0.036351   \n",
       "4                       0                      0   0.027858   0.147596   \n",
       "\n",
       "   log_minimum_nights  log_number_of_reviews  log_reviews_per_month  \\\n",
       "0            0.693147               2.302585              -1.560648   \n",
       "1            0.693147               3.828641              -0.967584   \n",
       "2            1.386294               0.000000              -0.328504   \n",
       "3            0.693147               5.602119               1.534714   \n",
       "4            2.397895               2.302585              -2.302585   \n",
       "\n",
       "   log_calculated_host_listings_count  \n",
       "0                            1.791759  \n",
       "1                            0.693147  \n",
       "2                            0.000000  \n",
       "3                            0.000000  \n",
       "4                            0.000000  "
      ]
     },
     "execution_count": 14,
     "metadata": {},
     "output_type": "execute_result"
    }
   ],
   "source": [
    "df.head()"
   ]
  },
  {
   "cell_type": "code",
   "execution_count": 15,
   "id": "9afb63af",
   "metadata": {},
   "outputs": [
    {
     "data": {
      "text/plain": [
       "<AxesSubplot:>"
      ]
     },
     "execution_count": 15,
     "metadata": {},
     "output_type": "execute_result"
    },
    {
     "data": {
      "image/png": "[encoded data removed]",
      "text/plain": [
       "<Figure size 432x288 with 1 Axes>"
      ]
     },
     "metadata": {
      "needs_background": "light"
     },
     "output_type": "display_data"
    }
   ],
   "source": [
    "df[target_name].hist()"
   ]
  },
  {
   "cell_type": "code",
   "execution_count": 16,
   "id": "0fc74616",
   "metadata": {},
   "outputs": [
    {
     "data": {
      "text/plain": [
       "count    48410.000000\n",
       "mean       137.575170\n",
       "std        103.780081\n",
       "min         10.000000\n",
       "25%         69.000000\n",
       "50%        105.000000\n",
       "75%        175.000000\n",
       "max        799.000000\n",
       "Name: price, dtype: float64"
      ]
     },
     "execution_count": 16,
     "metadata": {},
     "output_type": "execute_result"
    }
   ],
   "source": [
    "df[target_name].describe()"
   ]
  },
  {
   "cell_type": "code",
   "execution_count": 70,
   "id": "304f2a26",
   "metadata": {},
   "outputs": [
    {
     "data": {
      "text/plain": [
       "<regression_classifier.class_regressor.ClassRegressor at 0x23979b314c0>"
      ]
     },
     "execution_count": 70,
     "metadata": {},
     "output_type": "execute_result"
    }
   ],
   "source": [
    "clf = ClassRegressor(n_bins=5)\n",
    "clf.fit(X_train_scaled, y_train)"
   ]
  },
  {
   "cell_type": "code",
   "execution_count": 71,
   "id": "6038b972",
   "metadata": {},
   "outputs": [
    {
     "name": "stdout",
     "output_type": "stream",
     "text": [
      "Class regressor\n",
      "train mae 58.3138328785063\n",
      "test mae 57.99512359980792\n"
     ]
    }
   ],
   "source": [
    "pred_train = clf.predict(X_train_scaled, regression=True)\n",
    "pred_test = clf.predict(X_test_scaled, regression=True)\n",
    "\n",
    "print('Class regressor')\n",
    "print('train mae', mean_absolute_error(y_train, pred_train))\n",
    "print('test mae', mean_absolute_error(y_test, pred_test))"
   ]
  },
  {
   "cell_type": "code",
   "execution_count": 66,
   "id": "0564566c",
   "metadata": {},
   "outputs": [
    {
     "data": {
      "text/plain": [
       "0    24823\n",
       "1     7291\n",
       "2     1141\n",
       "3      419\n",
       "4      213\n",
       "dtype: int64"
      ]
     },
     "execution_count": 66,
     "metadata": {},
     "output_type": "execute_result"
    }
   ],
   "source": [
    "pd.Series(clf.y_classes).value_counts()"
   ]
  },
  {
   "cell_type": "code",
   "execution_count": 75,
   "id": "a8ee06bd",
   "metadata": {},
   "outputs": [
    {
     "name": "stdout",
     "output_type": "stream",
     "text": [
      "Class regressor\n",
      "train mae 55.011132465641026\n",
      "test mae 54.79093739634413\n"
     ]
    }
   ],
   "source": [
    "clf = ClassRegressor(n_bins=5, bins_calc_method='percentile')\n",
    "clf.fit(X_train_scaled, y_train)\n",
    "pred_train = clf.predict(X_train_scaled, regression=True)\n",
    "pred_test = clf.predict(X_test_scaled, regression=True)\n",
    "\n",
    "print('Class regressor')\n",
    "print('train mae', mean_absolute_error(y_train, pred_train))\n",
    "print('test mae', mean_absolute_error(y_test, pred_test))"
   ]
  },
  {
   "cell_type": "code",
   "execution_count": 68,
   "id": "b08a7fcd",
   "metadata": {},
   "outputs": [
    {
     "data": {
      "text/plain": [
       "0    7085\n",
       "1    6908\n",
       "4    6749\n",
       "3    6724\n",
       "2    6421\n",
       "dtype: int64"
      ]
     },
     "execution_count": 68,
     "metadata": {},
     "output_type": "execute_result"
    }
   ],
   "source": [
    "pd.Series(clf.y_classes).value_counts()"
   ]
  },
  {
   "cell_type": "code",
   "execution_count": 19,
   "id": "112ec542",
   "metadata": {},
   "outputs": [
    {
     "name": "stdout",
     "output_type": "stream",
     "text": [
      "Dummy regressor\n",
      "train mae 73.40003703765083\n",
      "test mae 73.39060713427676\n"
     ]
    }
   ],
   "source": [
    "dummy_regr = DummyRegressor(strategy=\"mean\")\n",
    "dummy_regr.fit(X_train_scaled, y_train)\n",
    "\n",
    "\n",
    "pred_train = dummy_regr.predict(X_train_scaled)\n",
    "pred_test = dummy_regr.predict(X_test_scaled)\n",
    "\n",
    "print('Dummy regressor')\n",
    "print('train mae', mean_absolute_error(y_train, pred_train))\n",
    "print('test mae', mean_absolute_error(y_test, pred_test))"
   ]
  },
  {
   "cell_type": "markdown",
   "id": "fcb02c05",
   "metadata": {},
   "source": [
    "# Test ClassRegressorEnsemble"
   ]
  },
  {
   "cell_type": "code",
   "execution_count": 20,
   "id": "54f0dae5",
   "metadata": {},
   "outputs": [],
   "source": [
    "N_BINS = 2\n",
    "N_LEVELS = 3\n",
    "\n",
    "class_reg = ClassRegressorEnsemble(n_bins=N_BINS, n_levels=N_LEVELS)\n",
    "\n",
    "class_reg.fit(X_train_scaled, y_train)"
   ]
  },
  {
   "cell_type": "code",
   "execution_count": 21,
   "id": "2261d9b6",
   "metadata": {},
   "outputs": [],
   "source": [
    "pred_test = class_reg.predict(X_test_scaled)"
   ]
  },
  {
   "cell_type": "code",
   "execution_count": 22,
   "id": "bc91b7b1",
   "metadata": {},
   "outputs": [
    {
     "data": {
      "text/plain": [
       "68.745752     7394\n",
       "152.572647    6246\n",
       "254.707027     877\n",
       "469.063786       6\n",
       "dtype: int64"
      ]
     },
     "execution_count": 22,
     "metadata": {},
     "output_type": "execute_result"
    }
   ],
   "source": [
    "pd.Series(pred_test).value_counts()"
   ]
  },
  {
   "cell_type": "code",
   "execution_count": 23,
   "id": "77dba82e",
   "metadata": {},
   "outputs": [
    {
     "name": "stdout",
     "output_type": "stream",
     "text": [
      "Simple ClassRegressor ensemble\n",
      "train mae 50.58294568478059\n",
      "test mae 50.990203321910144\n"
     ]
    }
   ],
   "source": [
    "pred_train = class_reg.predict(X_train_scaled)\n",
    "pred_test = class_reg.predict(X_test_scaled)\n",
    "\n",
    "print('Simple ClassRegressor ensemble')\n",
    "print('train mae', mean_absolute_error(y_train, pred_train))\n",
    "print('test mae', mean_absolute_error(y_test, pred_test))"
   ]
  },
  {
   "cell_type": "markdown",
   "id": "30660765",
   "metadata": {},
   "source": [
    "# Test large ClassRegressorEnsemble"
   ]
  },
  {
   "cell_type": "code",
   "execution_count": 34,
   "id": "a237b9db",
   "metadata": {},
   "outputs": [],
   "source": [
    "N_BINS = 5\n",
    "N_LEVELS = 3\n",
    "\n",
    "class_reg = ClassRegressorEnsemble(n_bins=N_BINS, n_levels=N_LEVELS)"
   ]
  },
  {
   "cell_type": "code",
   "execution_count": 35,
   "id": "0c3625f1",
   "metadata": {},
   "outputs": [],
   "source": [
    "class_reg.fit(X_train_scaled, y_train)"
   ]
  },
  {
   "cell_type": "code",
   "execution_count": 36,
   "id": "7134905b",
   "metadata": {},
   "outputs": [],
   "source": [
    "pred_train = class_reg.predict(X_train_scaled)"
   ]
  },
  {
   "cell_type": "code",
   "execution_count": 37,
   "id": "4b17ed8d",
   "metadata": {},
   "outputs": [
    {
     "name": "stdout",
     "output_type": "stream",
     "text": [
      "Train errors\n"
     ]
    },
    {
     "data": {
      "text/html": [
       "<div>\n",
       "<style scoped>\n",
       "    .dataframe tbody tr th:only-of-type {\n",
       "        vertical-align: middle;\n",
       "    }\n",
       "\n",
       "    .dataframe tbody tr th {\n",
       "        vertical-align: top;\n",
       "    }\n",
       "\n",
       "    .dataframe thead th {\n",
       "        text-align: right;\n",
       "    }\n",
       "</style>\n",
       "<table border=\"1\" class=\"dataframe\">\n",
       "  <thead>\n",
       "    <tr style=\"text-align: right;\">\n",
       "      <th></th>\n",
       "      <th>error_type</th>\n",
       "      <th>class_reg</th>\n",
       "    </tr>\n",
       "  </thead>\n",
       "  <tbody>\n",
       "    <tr>\n",
       "      <th>0</th>\n",
       "      <td>MAE</td>\n",
       "      <td>47.597818</td>\n",
       "    </tr>\n",
       "    <tr>\n",
       "      <th>1</th>\n",
       "      <td>RMSE</td>\n",
       "      <td>87.225821</td>\n",
       "    </tr>\n",
       "    <tr>\n",
       "      <th>2</th>\n",
       "      <td>R2</td>\n",
       "      <td>0.296675</td>\n",
       "    </tr>\n",
       "    <tr>\n",
       "      <th>3</th>\n",
       "      <td>MAPE</td>\n",
       "      <td>30.156956</td>\n",
       "    </tr>\n",
       "  </tbody>\n",
       "</table>\n",
       "</div>"
      ],
      "text/plain": [
       "  error_type  class_reg\n",
       "0        MAE  47.597818\n",
       "1       RMSE  87.225821\n",
       "2         R2   0.296675\n",
       "3       MAPE  30.156956"
      ]
     },
     "execution_count": 37,
     "metadata": {},
     "output_type": "execute_result"
    }
   ],
   "source": [
    "print('Train errors')\n",
    "measured_metrics = pd.DataFrame({\"error_type\":[\"MAE\", \"RMSE\", \"R2\", \"MAPE\"]})\n",
    "measured_metrics.set_index(\"error_type\")\n",
    "\n",
    "measured_metrics[\"class_reg\"] = dataframe_metrics(y_train, pred_train)\n",
    "measured_metrics"
   ]
  },
  {
   "cell_type": "code",
   "execution_count": 38,
   "id": "9df22cf0",
   "metadata": {},
   "outputs": [
    {
     "name": "stdout",
     "output_type": "stream",
     "text": [
      "Test errors\n"
     ]
    },
    {
     "data": {
      "text/html": [
       "<div>\n",
       "<style scoped>\n",
       "    .dataframe tbody tr th:only-of-type {\n",
       "        vertical-align: middle;\n",
       "    }\n",
       "\n",
       "    .dataframe tbody tr th {\n",
       "        vertical-align: top;\n",
       "    }\n",
       "\n",
       "    .dataframe thead th {\n",
       "        text-align: right;\n",
       "    }\n",
       "</style>\n",
       "<table border=\"1\" class=\"dataframe\">\n",
       "  <thead>\n",
       "    <tr style=\"text-align: right;\">\n",
       "      <th></th>\n",
       "      <th>error_type</th>\n",
       "      <th>class_reg</th>\n",
       "    </tr>\n",
       "  </thead>\n",
       "  <tbody>\n",
       "    <tr>\n",
       "      <th>0</th>\n",
       "      <td>MAE</td>\n",
       "      <td>47.882856</td>\n",
       "    </tr>\n",
       "    <tr>\n",
       "      <th>1</th>\n",
       "      <td>RMSE</td>\n",
       "      <td>86.273592</td>\n",
       "    </tr>\n",
       "    <tr>\n",
       "      <th>2</th>\n",
       "      <td>R2</td>\n",
       "      <td>0.301653</td>\n",
       "    </tr>\n",
       "    <tr>\n",
       "      <th>3</th>\n",
       "      <td>MAPE</td>\n",
       "      <td>30.355857</td>\n",
       "    </tr>\n",
       "  </tbody>\n",
       "</table>\n",
       "</div>"
      ],
      "text/plain": [
       "  error_type  class_reg\n",
       "0        MAE  47.882856\n",
       "1       RMSE  86.273592\n",
       "2         R2   0.301653\n",
       "3       MAPE  30.355857"
      ]
     },
     "execution_count": 38,
     "metadata": {},
     "output_type": "execute_result"
    }
   ],
   "source": [
    "pred_test = class_reg.predict(X_test_scaled)\n",
    "print('Test errors')\n",
    "measured_metrics = pd.DataFrame({\"error_type\":[\"MAE\", \"RMSE\", \"R2\", \"MAPE\"]})\n",
    "measured_metrics.set_index(\"error_type\")\n",
    "\n",
    "measured_metrics[\"class_reg\"] = dataframe_metrics(y_test, pred_test)\n",
    "measured_metrics"
   ]
  },
  {
   "cell_type": "markdown",
   "id": "281e2a29",
   "metadata": {},
   "source": [
    "## Best scores"
   ]
  },
  {
   "cell_type": "code",
   "execution_count": 40,
   "id": "6a770e89",
   "metadata": {},
   "outputs": [
    {
     "data": {
      "text/html": [
       "<div>\n",
       "<style scoped>\n",
       "    .dataframe tbody tr th:only-of-type {\n",
       "        vertical-align: middle;\n",
       "    }\n",
       "\n",
       "    .dataframe tbody tr th {\n",
       "        vertical-align: top;\n",
       "    }\n",
       "\n",
       "    .dataframe thead th {\n",
       "        text-align: right;\n",
       "    }\n",
       "</style>\n",
       "<table border=\"1\" class=\"dataframe\">\n",
       "  <thead>\n",
       "    <tr style=\"text-align: right;\">\n",
       "      <th></th>\n",
       "      <th>error_type</th>\n",
       "      <th>class_reg</th>\n",
       "    </tr>\n",
       "  </thead>\n",
       "  <tbody>\n",
       "    <tr>\n",
       "      <th>0</th>\n",
       "      <td>MAE</td>\n",
       "      <td>47.453174</td>\n",
       "    </tr>\n",
       "    <tr>\n",
       "      <th>1</th>\n",
       "      <td>RMSE</td>\n",
       "      <td>84.152413</td>\n",
       "    </tr>\n",
       "    <tr>\n",
       "      <th>2</th>\n",
       "      <td>R2</td>\n",
       "      <td>0.335570</td>\n",
       "    </tr>\n",
       "    <tr>\n",
       "      <th>3</th>\n",
       "      <td>MAPE</td>\n",
       "      <td>31.147789</td>\n",
       "    </tr>\n",
       "  </tbody>\n",
       "</table>\n",
       "</div>"
      ],
      "text/plain": [
       "  error_type  class_reg\n",
       "0        MAE  47.453174\n",
       "1       RMSE  84.152413\n",
       "2         R2   0.335570\n",
       "3       MAPE  31.147789"
      ]
     },
     "execution_count": 40,
     "metadata": {},
     "output_type": "execute_result"
    }
   ],
   "source": [
    "class_reg = ClassRegressorEnsemble(n_bins=2, n_levels=5, bins_calc_method='equal', leaf_model=None)\n",
    "class_reg.fit(X_train_scaled, y_train)\n",
    "pred_test = class_reg.predict(X_test_scaled)\n",
    "measured_metrics[\"class_reg\"] = dataframe_metrics(y_test, pred_test)\n",
    "measured_metrics"
   ]
  },
  {
   "cell_type": "markdown",
   "id": "a5c02eb5",
   "metadata": {},
   "source": [
    "## Percentile methode"
   ]
  },
  {
   "cell_type": "code",
   "execution_count": 85,
   "id": "385b67ad",
   "metadata": {},
   "outputs": [
    {
     "data": {
      "text/html": [
       "<div>\n",
       "<style scoped>\n",
       "    .dataframe tbody tr th:only-of-type {\n",
       "        vertical-align: middle;\n",
       "    }\n",
       "\n",
       "    .dataframe tbody tr th {\n",
       "        vertical-align: top;\n",
       "    }\n",
       "\n",
       "    .dataframe thead th {\n",
       "        text-align: right;\n",
       "    }\n",
       "</style>\n",
       "<table border=\"1\" class=\"dataframe\">\n",
       "  <thead>\n",
       "    <tr style=\"text-align: right;\">\n",
       "      <th></th>\n",
       "      <th>error_type</th>\n",
       "      <th>class_reg</th>\n",
       "    </tr>\n",
       "  </thead>\n",
       "  <tbody>\n",
       "    <tr>\n",
       "      <th>0</th>\n",
       "      <td>MAE</td>\n",
       "      <td>50.645577</td>\n",
       "    </tr>\n",
       "    <tr>\n",
       "      <th>1</th>\n",
       "      <td>RMSE</td>\n",
       "      <td>90.554539</td>\n",
       "    </tr>\n",
       "    <tr>\n",
       "      <th>2</th>\n",
       "      <td>R2</td>\n",
       "      <td>0.230628</td>\n",
       "    </tr>\n",
       "    <tr>\n",
       "      <th>3</th>\n",
       "      <td>MAPE</td>\n",
       "      <td>35.338208</td>\n",
       "    </tr>\n",
       "  </tbody>\n",
       "</table>\n",
       "</div>"
      ],
      "text/plain": [
       "  error_type  class_reg\n",
       "0        MAE  50.645577\n",
       "1       RMSE  90.554539\n",
       "2         R2   0.230628\n",
       "3       MAPE  35.338208"
      ]
     },
     "execution_count": 85,
     "metadata": {},
     "output_type": "execute_result"
    }
   ],
   "source": [
    "class_reg = ClassRegressorEnsemble(n_bins=100, n_levels=1, bins_calc_method='percentile', leaf_model=None)\n",
    "class_reg.fit(X_train_scaled, y_train)\n",
    "pred_test = class_reg.predict(X_test_scaled)\n",
    "measured_metrics[\"class_reg\"] = dataframe_metrics(y_test, pred_test)\n",
    "measured_metrics"
   ]
  },
  {
   "cell_type": "markdown",
   "id": "026e1b6f",
   "metadata": {},
   "source": [
    "## Percentile with linear regression"
   ]
  },
  {
   "cell_type": "code",
   "execution_count": 86,
   "id": "5d9a97b2",
   "metadata": {},
   "outputs": [
    {
     "data": {
      "text/html": [
       "<div>\n",
       "<style scoped>\n",
       "    .dataframe tbody tr th:only-of-type {\n",
       "        vertical-align: middle;\n",
       "    }\n",
       "\n",
       "    .dataframe tbody tr th {\n",
       "        vertical-align: top;\n",
       "    }\n",
       "\n",
       "    .dataframe thead th {\n",
       "        text-align: right;\n",
       "    }\n",
       "</style>\n",
       "<table border=\"1\" class=\"dataframe\">\n",
       "  <thead>\n",
       "    <tr style=\"text-align: right;\">\n",
       "      <th></th>\n",
       "      <th>error_type</th>\n",
       "      <th>class_reg</th>\n",
       "    </tr>\n",
       "  </thead>\n",
       "  <tbody>\n",
       "    <tr>\n",
       "      <th>0</th>\n",
       "      <td>MAE</td>\n",
       "      <td>50.794018</td>\n",
       "    </tr>\n",
       "    <tr>\n",
       "      <th>1</th>\n",
       "      <td>RMSE</td>\n",
       "      <td>91.257705</td>\n",
       "    </tr>\n",
       "    <tr>\n",
       "      <th>2</th>\n",
       "      <td>R2</td>\n",
       "      <td>0.218633</td>\n",
       "    </tr>\n",
       "    <tr>\n",
       "      <th>3</th>\n",
       "      <td>MAPE</td>\n",
       "      <td>35.421157</td>\n",
       "    </tr>\n",
       "  </tbody>\n",
       "</table>\n",
       "</div>"
      ],
      "text/plain": [
       "  error_type  class_reg\n",
       "0        MAE  50.794018\n",
       "1       RMSE  91.257705\n",
       "2         R2   0.218633\n",
       "3       MAPE  35.421157"
      ]
     },
     "execution_count": 86,
     "metadata": {},
     "output_type": "execute_result"
    }
   ],
   "source": [
    "class_reg = ClassRegressorEnsemble(n_bins=100, n_levels=1, bins_calc_method='percentile', leaf_model=LinearRegression)\n",
    "class_reg.fit(X_train_scaled, y_train)\n",
    "pred_test = class_reg.predict(X_test_scaled)\n",
    "measured_metrics[\"class_reg\"] = dataframe_metrics(y_test, pred_test)\n",
    "measured_metrics"
   ]
  },
  {
   "cell_type": "code",
   "execution_count": null,
   "id": "2b6b7d82",
   "metadata": {},
   "outputs": [],
   "source": []
  },
  {
   "cell_type": "code",
   "execution_count": 30,
   "id": "33af7bb5",
   "metadata": {},
   "outputs": [
    {
     "data": {
      "text/html": [
       "<div>\n",
       "<style scoped>\n",
       "    .dataframe tbody tr th:only-of-type {\n",
       "        vertical-align: middle;\n",
       "    }\n",
       "\n",
       "    .dataframe tbody tr th {\n",
       "        vertical-align: top;\n",
       "    }\n",
       "\n",
       "    .dataframe thead th {\n",
       "        text-align: right;\n",
       "    }\n",
       "</style>\n",
       "<table border=\"1\" class=\"dataframe\">\n",
       "  <thead>\n",
       "    <tr style=\"text-align: right;\">\n",
       "      <th></th>\n",
       "      <th>error_type</th>\n",
       "      <th>class_reg</th>\n",
       "      <th>baseline_lgbm</th>\n",
       "    </tr>\n",
       "  </thead>\n",
       "  <tbody>\n",
       "    <tr>\n",
       "      <th>0</th>\n",
       "      <td>MAE</td>\n",
       "      <td>47.882856</td>\n",
       "      <td>44.184880</td>\n",
       "    </tr>\n",
       "    <tr>\n",
       "      <th>1</th>\n",
       "      <td>RMSE</td>\n",
       "      <td>86.273592</td>\n",
       "      <td>71.781541</td>\n",
       "    </tr>\n",
       "    <tr>\n",
       "      <th>2</th>\n",
       "      <td>R2</td>\n",
       "      <td>0.301653</td>\n",
       "      <td>0.516561</td>\n",
       "    </tr>\n",
       "    <tr>\n",
       "      <th>3</th>\n",
       "      <td>MAPE</td>\n",
       "      <td>30.355857</td>\n",
       "      <td>35.340550</td>\n",
       "    </tr>\n",
       "  </tbody>\n",
       "</table>\n",
       "</div>"
      ],
      "text/plain": [
       "  error_type  class_reg  baseline_lgbm\n",
       "0        MAE  47.882856      44.184880\n",
       "1       RMSE  86.273592      71.781541\n",
       "2         R2   0.301653       0.516561\n",
       "3       MAPE  30.355857      35.340550"
      ]
     },
     "execution_count": 30,
     "metadata": {},
     "output_type": "execute_result"
    }
   ],
   "source": [
    "lgbm_reg = LGBMRegressor()\n",
    "\n",
    "lgbm_reg.fit(X_train_scaled, y_train)\n",
    "\n",
    "measured_metrics[\"baseline_lgbm\"] = dataframe_metrics(y_test, lgbm_reg.predict(X_test_scaled))\n",
    "measured_metrics"
   ]
  },
  {
   "cell_type": "code",
   "execution_count": null,
   "id": "298791c9",
   "metadata": {},
   "outputs": [],
   "source": []
  }
 ],
 "metadata": {
  "kernelspec": {
   "display_name": "Python 3 (ipykernel)",
   "language": "python",
   "name": "python3"
  },
  "language_info": {
   "codemirror_mode": {
    "name": "ipython",
    "version": 3
   },
   "file_extension": ".py",
   "mimetype": "text/x-python",
   "name": "python",
   "nbconvert_exporter": "python",
   "pygments_lexer": "ipython3",
   "version": "3.8.12"
  }
 },
 "nbformat": 4,
 "nbformat_minor": 5
}
